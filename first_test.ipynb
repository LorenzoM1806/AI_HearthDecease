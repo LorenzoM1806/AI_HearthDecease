{
 "cells": [
  {
   "cell_type": "code",
   "execution_count": 2,
   "metadata": {},
   "outputs": [
    {
     "name": "stderr",
     "output_type": "stream",
     "text": [
      "C:\\Users\\loren\\AppData\\Local\\Temp\\ipykernel_9088\\1493515215.py:4: DeprecationWarning: \n",
      "Pyarrow will become a required dependency of pandas in the next major release of pandas (pandas 3.0),\n",
      "(to allow more performant data types, such as the Arrow string type, and better interoperability with other libraries)\n",
      "but was not found to be installed on your system.\n",
      "If this would cause problems for you,\n",
      "please provide us feedback at https://github.com/pandas-dev/pandas/issues/54466\n",
      "        \n",
      "  import pandas as pd\n"
     ]
    }
   ],
   "source": [
    "# @title\n",
    "# Perform preprocessing\n",
    "import numpy as np\n",
    "import pandas as pd\n",
    "from sklearn.model_selection import train_test_split\n",
    "from sklearn.preprocessing import OneHotEncoder, StandardScaler\n",
    "from sklearn.compose import ColumnTransformer\n",
    "from sklearn.pipeline import Pipeline\n",
    "import xgboost as xgb\n",
    "from sklearn.metrics import accuracy_score\n",
    "from sklearn.preprocessing import LabelEncoder"
   ]
  },
  {
   "cell_type": "code",
   "execution_count": 4,
   "metadata": {},
   "outputs": [
    {
     "name": "stdout",
     "output_type": "stream",
     "text": [
      "Accuracy: 0.8372093023255814\n"
     ]
    }
   ],
   "source": [
    "\n",
    "\n",
    "# Read the data\n",
    "heart_df = pd.read_csv(\"train_heart.csv\", sep=',')\n",
    "\n",
    "# Define feature columns and target variable\n",
    "feature_cols = ['ChestPainType', 'Cholesterol', 'RestingECG', 'MaxHR', 'Oldpeak', 'ST_Slope']\n",
    "X = heart_df[feature_cols]\n",
    "y = heart_df['HeartDisease']\n",
    "\n",
    "# Split the data into training and testing sets\n",
    "X_train, X_test, y_train, y_test = train_test_split(X, y, test_size=0.2, random_state=42)\n",
    "\n",
    "# Define preprocessing steps for numerical and categorical features\n",
    "categorical_features = ['ChestPainType', 'RestingECG', 'ST_Slope']\n",
    "numerical_features = ['Cholesterol', 'MaxHR', 'Oldpeak']\n",
    "\n",
    "categorical_transformer = OneHotEncoder(handle_unknown='ignore')\n",
    "numerical_transformer = StandardScaler()\n",
    "\n",
    "preprocessor = ColumnTransformer(\n",
    "    transformers=[\n",
    "        ('cat', categorical_transformer, categorical_features),\n",
    "        ('num', numerical_transformer, numerical_features)\n",
    "    ])\n",
    "\n",
    "# Create a Pipeline with preprocessing and XGBoost classifier\n",
    "xgb_model = Pipeline(steps=[\n",
    "    ('preprocessor', preprocessor),\n",
    "    ('classifier', xgb.XGBClassifier(objective='binary:logistic', random_state=42))\n",
    "])\n",
    "\n",
    "# Train the model\n",
    "xgb_model.fit(X_train, y_train)\n",
    "\n",
    "# Make predictions\n",
    "y_pred = xgb_model.predict(X_test)\n",
    "\n",
    "# Evaluate the model\n",
    "accuracy = accuracy_score(y_test, y_pred)\n",
    "print(\"Accuracy:\", accuracy)\n"
   ]
  },
  {
   "cell_type": "markdown",
   "metadata": {},
   "source": [
    "To push to a csv file based on the test_heart.csv"
   ]
  },
  {
   "cell_type": "code",
   "execution_count": 17,
   "metadata": {},
   "outputs": [
    {
     "name": "stdout",
     "output_type": "stream",
     "text": [
      "      id  predicted\n",
      "0    637          0\n",
      "1    430          1\n",
      "2    711          1\n",
      "3    375          0\n",
      "4    183          1\n",
      "..   ...        ...\n",
      "271  133          1\n",
      "272   66          0\n",
      "273  470          1\n",
      "274  898          0\n",
      "275  182          1\n",
      "\n",
      "[276 rows x 2 columns]\n"
     ]
    }
   ],
   "source": [
    "# Read the test data\n",
    "test_df = pd.read_csv(\"test_heart.csv\", sep=',')\n",
    "\n",
    "# Define feature columns\n",
    "feature_cols = ['ChestPainType', 'Cholesterol', 'RestingECG', 'MaxHR', 'Oldpeak', 'ST_Slope']\n",
    "\n",
    "# Extract 'id' column\n",
    "ids = test_df['id']\n",
    "\n",
    "# Drop the 'id' column\n",
    "X_test = test_df.drop(columns=['id'])\n",
    "\n",
    "# Make predictions\n",
    "y_pred = xgb_model.predict(X_test)\n",
    "\n",
    "# Create a DataFrame with 'id' and predicted values\n",
    "predictions_df = pd.DataFrame({'id': ids, 'predicted': y_pred})\n",
    "\n",
    "# Print or save the predictions\n",
    "print(predictions_df)\n",
    "predictions_df.to_csv('predictions.csv', index=False)\n"
   ]
  }
 ],
 "metadata": {
  "kernelspec": {
   "display_name": "AI_env",
   "language": "python",
   "name": "python3"
  },
  "language_info": {
   "codemirror_mode": {
    "name": "ipython",
    "version": 3
   },
   "file_extension": ".py",
   "mimetype": "text/x-python",
   "name": "python",
   "nbconvert_exporter": "python",
   "pygments_lexer": "ipython3",
   "version": "3.12.0"
  }
 },
 "nbformat": 4,
 "nbformat_minor": 2
}
