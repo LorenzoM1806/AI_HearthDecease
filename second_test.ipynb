{
 "cells": [
  {
   "cell_type": "code",
   "execution_count": 1,
   "metadata": {},
   "outputs": [
    {
     "name": "stderr",
     "output_type": "stream",
     "text": [
      "C:\\Users\\loren\\AppData\\Local\\Temp\\ipykernel_33584\\1419958206.py:1: DeprecationWarning: \n",
      "Pyarrow will become a required dependency of pandas in the next major release of pandas (pandas 3.0),\n",
      "(to allow more performant data types, such as the Arrow string type, and better interoperability with other libraries)\n",
      "but was not found to be installed on your system.\n",
      "If this would cause problems for you,\n",
      "please provide us feedback at https://github.com/pandas-dev/pandas/issues/54466\n",
      "        \n",
      "  import pandas as pd\n"
     ]
    }
   ],
   "source": [
    "import pandas as pd\n",
    "import matplotlib.pyplot as plt\n",
    "import seaborn as sns\n",
    "from sklearn.model_selection import train_test_split\n",
    "from sklearn.preprocessing import OneHotEncoder\n",
    "from xgboost import XGBClassifier\n",
    "from sklearn.compose import ColumnTransformer\n",
    "from sklearn.pipeline import Pipeline\n",
    "from sklearn.impute import SimpleImputer\n",
    "from sklearn.metrics import accuracy_score, confusion_matrix"
   ]
  },
  {
   "cell_type": "code",
   "execution_count": 2,
   "metadata": {},
   "outputs": [
    {
     "name": "stderr",
     "output_type": "stream",
     "text": [
      "C:\\Users\\loren\\AppData\\Local\\Temp\\ipykernel_33584\\2733214178.py:11: FutureWarning: Setting an item of incompatible dtype is deprecated and will raise an error in a future version of pandas. Value '175.79614325068871' has dtype incompatible with int64, please explicitly cast to a compatible dtype first.\n",
      "  train_data.loc[(train_data['HeartDisease'] == 1) & (train_data['Cholesterol'] == 0), 'Cholesterol'] = mean_cholesterol_heart_disease_1\n"
     ]
    },
    {
     "name": "stdout",
     "output_type": "stream",
     "text": [
      "Validation Accuracy: 90.70%\n",
      "Confusion Matrix:\n"
     ]
    },
    {
     "data": {
      "image/png": "[encoded data removed]",
      "text/plain": [
       "<Figure size 640x480 with 1 Axes>"
      ]
     },
     "metadata": {},
     "output_type": "display_data"
    }
   ],
   "source": [
    "# Load the training data\n",
    "train_data = pd.read_csv('train_heart.csv')\n",
    "\n",
    "# Calculate the mean of 'Cholesterol' for people with 'HeartDisease' = 1\n",
    "mean_cholesterol_heart_disease_1 = train_data[train_data['HeartDisease'] == 1]['Cholesterol'].mean()\n",
    "\n",
    "# Calculate the mean of 'Cholesterol' for people with 'HeartDisease' = 0\n",
    "mean_cholesterol_heart_disease_0 = train_data[train_data['HeartDisease'] == 0]['Cholesterol'].mean()\n",
    "\n",
    "# Replace zeros with the mean for 'Cholesterol' where 'HeartDisease' is 1\n",
    "train_data.loc[(train_data['HeartDisease'] == 1) & (train_data['Cholesterol'] == 0), 'Cholesterol'] = mean_cholesterol_heart_disease_1\n",
    "\n",
    "# Replace zeros with the mean for 'Cholesterol' where 'HeartDisease' is 0\n",
    "train_data.loc[(train_data['HeartDisease'] == 0) & (train_data['Cholesterol'] == 0), 'Cholesterol'] = mean_cholesterol_heart_disease_0\n",
    "\n",
    "# Encode categorical features using OneHotEncoder\n",
    "categorical_features = ['Sex', 'RestingECG', 'ExerciseAngina', 'ST_Slope']\n",
    "numeric_features = ['Cholesterol', 'MaxHR', 'Oldpeak']\n",
    "\n",
    "# Create a column transformer\n",
    "preprocessor = ColumnTransformer(\n",
    "    transformers=[\n",
    "        ('num', SimpleImputer(strategy='mean'), numeric_features),\n",
    "        ('cat', OneHotEncoder(), categorical_features)\n",
    "    ])\n",
    "\n",
    "# Separate features and target variable\n",
    "X = train_data.drop('HeartDisease', axis=1)\n",
    "y = train_data['HeartDisease']\n",
    "\n",
    "# Split the data into training and testing sets\n",
    "X_train, X_val, y_train, y_val = train_test_split(X, y, test_size=0.2, random_state=42)\n",
    "\n",
    "# Create a pipeline with the preprocessor and the XGBoost model\n",
    "pipeline = Pipeline(steps=[('preprocessor', preprocessor),\n",
    "                             ('model', XGBClassifier())])\n",
    "\n",
    "# Train the model\n",
    "pipeline.fit(X_train, y_train)\n",
    "\n",
    "# Make predictions on the validation set\n",
    "y_pred = pipeline.predict(X_val)\n",
    "\n",
    "accuracy = accuracy_score(y_val, y_pred)\n",
    "conf_matrix = confusion_matrix(y_val, y_pred)\n",
    "\n",
    "print(f'Validation Accuracy: {accuracy * 100:.2f}%')\n",
    "print('Confusion Matrix:')\n",
    "\n",
    "# Plot the confusion matrix\n",
    "sns.heatmap(conf_matrix, annot=True, fmt='d', cmap='Blues', cbar=False,\n",
    "            xticklabels=['No Heart Disease', 'Heart Disease'],\n",
    "            yticklabels=['No Heart Disease', 'Heart Disease'])\n",
    "plt.xlabel('Predicted Label')\n",
    "plt.ylabel('True Label')\n",
    "plt.title('Confusion Matrix')\n",
    "plt.show()\n",
    "\n",
    "# predictions_df.to_csv('predictions.csv', index=False)"
   ]
  }
 ],
 "metadata": {
  "kernelspec": {
   "display_name": "AI_env",
   "language": "python",
   "name": "python3"
  },
  "language_info": {
   "codemirror_mode": {
    "name": "ipython",
    "version": 3
   },
   "file_extension": ".py",
   "mimetype": "text/x-python",
   "name": "python",
   "nbconvert_exporter": "python",
   "pygments_lexer": "ipython3",
   "version": "3.12.0"
  }
 },
 "nbformat": 4,
 "nbformat_minor": 2
}
